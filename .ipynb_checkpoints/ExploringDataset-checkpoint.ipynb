{
 "cells": [
  {
   "cell_type": "code",
   "execution_count": 5,
   "id": "d911851b",
   "metadata": {},
   "outputs": [],
   "source": [
    "from torch.utils.data import DataLoader\n",
    "from LaFan import LaFan1\n",
    "from config import *"
   ]
  },
  {
   "cell_type": "code",
   "execution_count": 7,
   "id": "76c562ab",
   "metadata": {},
   "outputs": [
    {
     "ename": "KeyError",
     "evalue": "'seq_length'",
     "output_type": "error",
     "traceback": [
      "\u001b[0;31m---------------------------------------------------------------------------\u001b[0m",
      "\u001b[0;31mKeyError\u001b[0m                                  Traceback (most recent call last)",
      "Input \u001b[0;32mIn [7]\u001b[0m, in \u001b[0;36m<module>\u001b[0;34m\u001b[0m\n\u001b[0;32m----> 1\u001b[0m lafan \u001b[38;5;241m=\u001b[39m LaFan1(data[\u001b[38;5;124m\"\u001b[39m\u001b[38;5;124mpath_small\u001b[39m\u001b[38;5;124m\"\u001b[39m], seq_len\u001b[38;5;241m=\u001b[39m\u001b[43mdata\u001b[49m\u001b[43m[\u001b[49m\u001b[38;5;124;43m\"\u001b[39;49m\u001b[38;5;124;43mseq_length\u001b[39;49m\u001b[38;5;124;43m\"\u001b[39;49m\u001b[43m]\u001b[49m, offset\u001b[38;5;241m=\u001b[39mdata[seq_length], train\u001b[38;5;241m=\u001b[39m\u001b[38;5;28;01mTrue\u001b[39;00m, debug\u001b[38;5;241m=\u001b[39m\u001b[38;5;28;01mTrue\u001b[39;00m)\n\u001b[1;32m      2\u001b[0m lafan_loader \u001b[38;5;241m=\u001b[39m DataLoader(lafan, batch_size\u001b[38;5;241m=\u001b[39mtrain[\u001b[38;5;124m\"\u001b[39m\u001b[38;5;124mbatch_size\u001b[39m\u001b[38;5;124m\"\u001b[39m], shuffle\u001b[38;5;241m=\u001b[39m\u001b[38;5;28;01mFalse\u001b[39;00m, num_workers\u001b[38;5;241m=\u001b[39mdata[\u001b[38;5;124m\"\u001b[39m\u001b[38;5;124mnum_workers\u001b[39m\u001b[38;5;124m\"\u001b[39m])\n",
      "\u001b[0;31mKeyError\u001b[0m: 'seq_length'"
     ]
    }
   ],
   "source": [
    "lafan = LaFan1(data[\"path_small\"], seq_len=data[\"seq_length\"], offset=data[seq_length], train=True, debug=True)\n",
    "lafan_loader = DataLoader(lafan, batch_size=train[\"batch_size\"], shuffle=False, num_workers=data[\"num_workers\"])"
   ]
  },
  {
   "cell_type": "code",
   "execution_count": null,
   "id": "f6a65b4f",
   "metadata": {},
   "outputs": [],
   "source": []
  }
 ],
 "metadata": {
  "kernelspec": {
   "display_name": "Python 3 (ipykernel)",
   "language": "python",
   "name": "python3"
  },
  "language_info": {
   "codemirror_mode": {
    "name": "ipython",
    "version": 3
   },
   "file_extension": ".py",
   "mimetype": "text/x-python",
   "name": "python",
   "nbconvert_exporter": "python",
   "pygments_lexer": "ipython3",
   "version": "3.8.10"
  }
 },
 "nbformat": 4,
 "nbformat_minor": 5
}
