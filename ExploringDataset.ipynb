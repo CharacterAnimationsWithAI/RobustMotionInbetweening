{
 "cells": [
  {
   "cell_type": "code",
   "execution_count": 1,
   "id": "d911851b",
   "metadata": {},
   "outputs": [],
   "source": [
    "from torch.utils.data import DataLoader\n",
    "from LaFan import LaFan1\n",
    "from config import *"
   ]
  },
  {
   "cell_type": "code",
   "execution_count": 12,
   "id": "70066dd5",
   "metadata": {},
   "outputs": [
    {
     "name": "stdout",
     "output_type": "stream",
     "text": [
      "Building the data set... ['subject1', 'subject2', 'subject3', 'subject4']\n",
      "Processing file dance2_subject2.bvh\n",
      "Processing file dance2_subject4.bvh\n",
      "Processing file dance2_subject1.bvh\n",
      "Processing file dance2_subject3.bvh\n",
      "Nb of sequences : 448\n",
      "\n"
     ]
    }
   ],
   "source": [
    "lafan = LaFan1(data[\"path_small\"], seq_len=data[\"seq_length\"], offset=data[\"seq_length\"], train=True, debug=False)\n",
    "lafan_loader = DataLoader(lafan, batch_size=train[\"batch_size\"], shuffle=False, num_workers=data[\"num_workers\"])"
   ]
  },
  {
   "cell_type": "code",
   "execution_count": 13,
   "id": "97947453",
   "metadata": {},
   "outputs": [],
   "source": [
    "sampled_batch = iter(lafan_loader).next()"
   ]
  },
  {
   "cell_type": "code",
   "execution_count": 14,
   "id": "a68bf266",
   "metadata": {},
   "outputs": [
    {
     "name": "stdout",
     "output_type": "stream",
     "text": [
      "local_q:\t\ttorch.Size([128, 60, 22, 4])\n",
      "root_v:\t\t\ttorch.Size([128, 59, 3])\n",
      "contact:\t\ttorch.Size([128, 60, 4])\n",
      "root_p_offset:\t\ttorch.Size([128, 3])\n",
      "local_q_offset:\t\ttorch.Size([128, 22, 4])\n",
      "target:\t\t\ttorch.Size([128, 22, 4])\n",
      "root_p:\t\t\ttorch.Size([128, 60, 3])\n",
      "X:\t\t\ttorch.Size([128, 60, 22, 3])\n"
     ]
    }
   ],
   "source": [
    "print(f\"local_q:\\t\\t{sampled_batch['local_q'].shape}\")\n",
    "print(f\"root_v:\\t\\t\\t{sampled_batch['root_v'].shape}\")\n",
    "print(f\"contact:\\t\\t{sampled_batch['contact'].shape}\")\n",
    "print(f\"root_p_offset:\\t\\t{sampled_batch['root_p_offset'].shape}\")\n",
    "print(f\"local_q_offset:\\t\\t{sampled_batch['local_q_offset'].shape}\")\n",
    "print(f\"target:\\t\\t\\t{sampled_batch['target'].shape}\")\n",
    "print(f\"root_p:\\t\\t\\t{sampled_batch['root_p'].shape}\")\n",
    "print(f\"X:\\t\\t\\t{sampled_batch['X'].shape}\")"
   ]
  },
  {
   "cell_type": "markdown",
   "id": "0184b060",
   "metadata": {},
   "source": [
    "__local_q__\n",
    "batch size, sequence length, number of joints, joint quaternion\n",
    "\n",
    "__root_v__\n",
    "batch size, sequence length - 1 (calculated as the difference of root position between subsequent frames)\n",
    "\n",
    "__contact__\n",
    "batch size, sequence length, 4 points (2 on each foot) given as boolean\n",
    "\n",
    "__root_p_offset__\n",
    "batch size, position of root at the end of the sequence\n",
    "\n",
    "__local_q_offset__\n",
    "batch size, number of joints, quaternions of each joint at the end of the sequence\n",
    "\n",
    "__target__\n",
    "batch size, number of joints, quaternions of each joint at the end of the sequence (same as local_q_offset)\n",
    "\n",
    "__root_p__\n",
    "batch size, sequence length, position of root at each frame\n",
    "\n",
    "__X__\n",
    "batch size, sequence length, number of joints, position of each joint at each frame"
   ]
  }
 ],
 "metadata": {
  "kernelspec": {
   "display_name": "Python 3 (ipykernel)",
   "language": "python",
   "name": "python3"
  },
  "language_info": {
   "codemirror_mode": {
    "name": "ipython",
    "version": 3
   },
   "file_extension": ".py",
   "mimetype": "text/x-python",
   "name": "python",
   "nbconvert_exporter": "python",
   "pygments_lexer": "ipython3",
   "version": "3.8.10"
  }
 },
 "nbformat": 4,
 "nbformat_minor": 5
}
